{
 "cells": [
  {
   "cell_type": "markdown",
   "id": "f09de21f-2726-40ff-badc-519b95bf2596",
   "metadata": {},
   "source": [
    "**Aim of this code:**\n",
    "\n",
    "In order to tidy messy .txt data in ....dat files that interest me, the following process is needed. I was unable to run corresponding process in R because of troubling nature of this data. Therefore I am using python to format .dat files to .csv files. To obtain a .csv file, interaction of .dat file with its dictionary file is needed, this dictionary is responsible for naming the variables and collecting them in order, it works as a key to this data. For this purpose I will use statadict package, you can read about it here: https://pypi.org/project/statadict/.\n",
    "\n",
    "In this file I am only downloading and saving the data in .csv format, main work will be done in R.\n",
    "\n",
    "Note that: To download the data, you have to agree to the Data User's Agreement at https://www.cdc.gov/nchs/data_access/ftp_dua.htm"
   ]
  },
  {
   "cell_type": "code",
   "execution_count": null,
   "id": "d8042711-eeee-4444-b303-c463d483bf8a",
   "metadata": {},
   "outputs": [],
   "source": [
    "try:\n",
    "    from statadict import parse_stata_dict\n",
    "except ImportError:\n",
    "    !pip install statadict"
   ]
  },
  {
   "cell_type": "code",
   "execution_count": null,
   "id": "afe1d63b-9cc3-4770-94ba-6975a84d3220",
   "metadata": {},
   "outputs": [],
   "source": [
    "import pandas as pd\n",
    "from statadict import parse_stata_dict"
   ]
  },
  {
   "cell_type": "code",
   "execution_count": null,
   "id": "f773f28b-0772-4770-8d8a-29bff448563e",
   "metadata": {},
   "outputs": [],
   "source": [
    "from os.path import basename, exists\n",
    "\n",
    "def download(url):\n",
    "    filename = basename(url)\n",
    "    if not exists(filename):\n",
    "        from urllib.request import urlretrieve\n",
    "        local, _ = urlretrieve(url, filename)\n",
    "        print('Downloaded ' + local)"
   ]
  },
  {
   "cell_type": "code",
   "execution_count": null,
   "id": "04571f46-51f4-4ec7-ba90-fc16af458ad7",
   "metadata": {},
   "outputs": [],
   "source": [
    "# lsit of managable files\n",
    "dat_name = ['2002FemResp.dat',\n",
    "'2002Male.dat',\n",
    "'2011_2013_FemRespData.dat',\n",
    "'2011_2013_MaleData.dat',\n",
    "'2013_2015_FemRespData.dat',\n",
    "'2013_2015_MaleData.dat',\n",
    "'2015_2017_FemRespData.dat',\n",
    "'2015_2017_MaleData.dat',\n",
    "'2017_2019_FemRespData.dat',\n",
    "'2017_2019_MaleData.dat']\n",
    "\n",
    "# Dictionaries:\n",
    "dct_name = ['2002FemResp.dct',\n",
    "'2002Male.dct',\n",
    "'2011_2013_FemRespSetup.dct',\n",
    "'2011_2013_MaleSetup.dct',\n",
    "'2013_2015_FemRespSetup.dct',\n",
    "'2013_2015_MaleSetup.dct',\n",
    "'2015_2017_FemRespSetup.dct',\n",
    "'2015_2017_MaleSetup.dct',\n",
    "'2017_2019_FemRespSetup.dct',\n",
    "'2017_2019_MaleSetup.dct']"
   ]
  },
  {
   "cell_type": "code",
   "execution_count": null,
   "id": "6aa04e26-25be-44bd-b39d-e24137519790",
   "metadata": {},
   "outputs": [],
   "source": [
    "# Be sure to agree to the Data User's Agreement, otherwise it might not work! \n",
    "# Also, you need to specify the location that you want your files to be saved in\n",
    "# It may take a while (it took my computer around 1,5 min)\n",
    "for y in dat_name:\n",
    "  download('https://ftp.cdc.gov/pub/health_statistics/nchs/' +\n",
    "         'datasets/NSFG/'+ y)\n",
    "for y in dct_name:\n",
    "  download('https://ftp.cdc.gov/pub/health_statistics/nchs/' +\n",
    "         'datasets/NSFG/stata/'+ y)"
   ]
  },
  {
   "cell_type": "code",
   "execution_count": null,
   "id": "b0dcd3ea-00c5-4bbc-a338-49fda4061373",
   "metadata": {},
   "outputs": [],
   "source": [
    "c=0\n",
    "for dat,dct in zip(dat_name, dct_name):\n",
    "    c+=1\n",
    "    stata_dict = parse_stata_dict(dct)\n",
    "    hx = pd.read_fwf(dat, names=stata_dict.names, colspecs=stata_dict.colspecs)\\\n",
    "    .to_csv(r'C:\\Users\\nikod\\Documents\\Praca_dyplomowa\\csv_files\\NSFG_data_{}.csv'.format(c))\n",
    "   \n"
   ]
  },
  {
   "cell_type": "markdown",
   "id": "f6574915-f939-4069-ae17-076d94f310e5",
   "metadata": {},
   "source": [
    "That's it!\n",
    "\n",
    "Well.. sort of. There is a one pair of files from 2006_2010, that is not possible to be saved as a csv.file with this method. The file is different to others, probably corrupted in some way. I obtained it by downloading it from a different source (and in a different format), it is present in the project files.\n",
    "\n",
    "Now you should proceed to NL_nsfg_proj_1.R file"
   ]
  }
 ],
 "metadata": {
  "kernelspec": {
   "display_name": "Python 3 (ipykernel)",
   "language": "python",
   "name": "python3"
  },
  "language_info": {
   "codemirror_mode": {
    "name": "ipython",
    "version": 3
   },
   "file_extension": ".py",
   "mimetype": "text/x-python",
   "name": "python",
   "nbconvert_exporter": "python",
   "pygments_lexer": "ipython3",
   "version": "3.9.7"
  }
 },
 "nbformat": 4,
 "nbformat_minor": 5
}
